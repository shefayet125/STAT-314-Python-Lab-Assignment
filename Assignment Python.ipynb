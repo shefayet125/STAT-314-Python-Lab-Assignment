{
 "cells": [
  {
   "cell_type": "markdown",
   "metadata": {},
   "source": [
    "<div align=\"center\">\n",
    "  \n",
    "# <span style=\"font-family:Cambria; font-weight:bold;\">Name: Shefayet Hossain.</span>  \n",
    "\n",
    "# <span style=\"font-family:Cambria; font-weight:bold;\">ID: 21204125.</span>  \n",
    "\n",
    "# <span style=\"font-family:Cambria; font-weight:bold;\">Department of Statistics.</span>  \n",
    "\n",
    "# <span style=\"font-family:Cambria; font-weight:bold;\">University of Chittagong.</span>  \n",
    "\n",
    "</div>\n"
   ]
  },
  {
   "cell_type": "markdown",
   "metadata": {},
   "source": [
    "# <b>1.Write a python program to find the area of a triangle.<b>"
   ]
  },
  {
   "cell_type": "code",
   "execution_count": 225,
   "metadata": {},
   "outputs": [
    {
     "data": {
      "text/plain": [
       "'The area of triangle is 15.0 square units.'"
      ]
     },
     "execution_count": 225,
     "metadata": {},
     "output_type": "execute_result"
    }
   ],
   "source": [
    "# a,b is the base and height of the triangle respectively.\n",
    "def area_of_triangle(a,b):\n",
    "    area = 0.5 * a * b\n",
    "    return f\"The area of triangle is {area} square units.\"\n",
    "\n",
    "area_of_triangle(5,6)"
   ]
  },
  {
   "cell_type": "markdown",
   "metadata": {},
   "source": [
    "# <b>2.Write a python program to solve quadratic equation.<b>"
   ]
  },
  {
   "cell_type": "markdown",
   "metadata": {},
   "source": [
    "# Quadratic Equation Solution:\n",
    "\n",
    "The general form of a quadratic equation is: $ ax^2 + bx + c = 0 $\n",
    "\n",
    "The solution of the quadratic equation is given by the **quadratic formula**: $ x = \\frac{-b \\pm \\sqrt{b^2 - 4ac}}{2a}$\n",
    "\n",
    "Variations and nature of the roots of a quadratic equation depending on the determinant.\n",
    "* Let a, b, c are rational number. then\n",
    "  * (1)  $ b^2 - 4ac > 0 $ and is a perfect square, then two roots of the equation are real, unequal and rational.  \n",
    "  * (2)  $ b^2 - 4ac > 0 $ but is not a perfect square, then two roots of the equation are real, unequal and irrational.\n",
    "  * (3)  $ b^2 - 4ac = 0 $ hence the roots of the equation are real and equal. in this case x = -b/2a.\n",
    "  * (4)  $ b^2 - 4ac < 0 $ then the roots of the equation are not real. in this case, the two roots are always conjugate complex or imaginary to each other.\n"
   ]
  },
  {
   "cell_type": "code",
   "execution_count": 226,
   "metadata": {},
   "outputs": [
    {
     "name": "stdout",
     "output_type": "stream",
     "text": [
      "This equation has two solutions,they are: x1 = 3.0000 and x2 = 2.0000.\n"
     ]
    }
   ],
   "source": [
    "import math\n",
    "def quadratic_equation(a, b, c):\n",
    "    \n",
    "    #Specify that 'a' not equal to be Zero.\n",
    "    if a == 0:\n",
    "        raise ValueError(\"In a quadratic equation, the coefficient 'a' must be greater than zero.\")\n",
    "    \n",
    "    #The discriminant.\n",
    "    d = b**2 - 4*a*c\n",
    "    sqrt_val = math.sqrt(abs(d))\n",
    "    \n",
    "    # Check the nature of the discriminant and find the roots.\n",
    "    if d > 0:\n",
    "        x1 = (-b + sqrt_val) / (2*a)\n",
    "        x2 = (-b - sqrt_val) / (2*a)\n",
    "        print(f\"This equation has two solutions,they are: x1 = {x1:.4f} and x2 = {x2:.4f}.\")\n",
    "\n",
    "    elif d==0:\n",
    "        x = -b / (2 * a)\n",
    "        print(f\"This equation has one solution, thai is: x = {x:.4f}\") \n",
    "\n",
    "    elif d < 0:\n",
    "        print('This equation has no real solution.')\n",
    "\n",
    "\n",
    "#Call the function and input the value of a,b,c repectively.\n",
    "quadratic_equation(1,-5,6)\n"
   ]
  },
  {
   "cell_type": "markdown",
   "metadata": {},
   "source": [
    "# <b>3.Write a python program to make a simple calculator with 4 basic mathematical operations.<b>"
   ]
  },
  {
   "cell_type": "code",
   "execution_count": 253,
   "metadata": {},
   "outputs": [],
   "source": [
    "def simple_calculator(*args):\n",
    "    operation = input(\"Enter operation (+, -, *, /):\")\n",
    "\n",
    "    if operation == '+':\n",
    "        return f\"The result of summation is: {sum(args)}\"\n",
    "    \n",
    "    if operation == '-':\n",
    "        result = args[0]      # We initialize the result with the first number in the list of arguments.\n",
    "        for num in args[1:]:  # We loop through the rest of the numbers in the arguments (i.e., starting from the second number).\n",
    "            result = result - num\n",
    "        return f\"The result of subtraction is: {result}\"\n",
    "        \n",
    "    if operation == '*':\n",
    "        result = 1\n",
    "        for num in args:\n",
    "            result = result * num\n",
    "        return f\"The result of multiplication is: {result}\"\n",
    "        \n",
    "    if operation == '/':\n",
    "        result = args[0]\n",
    "        for num in args[1:]:\n",
    "            if num == 0:\n",
    "                raise ZeroDivisionError(\"Cannot divide by zero.\")\n",
    "            result = result / num\n",
    "        return f\"The result of division is: {result}\"\n",
    "        \n",
    "    else:\n",
    "        return \"Invalid operation. Please choose from (+, -, *, /).\""
   ]
  },
  {
   "cell_type": "code",
   "execution_count": 254,
   "metadata": {},
   "outputs": [
    {
     "data": {
      "text/plain": [
       "'The result of division is: 1.0'"
      ]
     },
     "execution_count": 254,
     "metadata": {},
     "output_type": "execute_result"
    }
   ],
   "source": [
    "#we take the number what we want to calculate,here i take 3 numbers only.\n",
    "simple_calculator(9,3,3)"
   ]
  },
  {
   "cell_type": "markdown",
   "metadata": {},
   "source": [
    "# <b>4.Write a python program to check leap year.<b>"
   ]
  },
  {
   "cell_type": "markdown",
   "metadata": {},
   "source": [
    "# Explanation of the condition:\n",
    "* year % 4 == 0: This checks if the year is divisible by 4. If the remainder when the year is divided by 4 is 0, it means the year is divisible by 4.\n",
    "* year % 100 != 0: This checks if the year is not divisible by 100. While a year divisible by 4 is typically a leap year, if it is divisible by 100, it is not a leap year unless it is also divisible by 400."
   ]
  },
  {
   "cell_type": "code",
   "execution_count": null,
   "metadata": {},
   "outputs": [
    {
     "data": {
      "text/plain": [
       "'2021 is not leap year.'"
      ]
     },
     "execution_count": 172,
     "metadata": {},
     "output_type": "execute_result"
    }
   ],
   "source": [
    "def leaf_year(year):\n",
    "    if (year % 4 == 0 and year % 100 != 0) or (year % 400 == 0):\n",
    "        return f\"{year} is leap year.\"\n",
    "    else:\n",
    "        return f\"{year} is not leap year.\"\n",
    "leaf_year(2021)"
   ]
  },
  {
   "cell_type": "markdown",
   "metadata": {},
   "source": [
    "# <b>5.Write a python program to find the factorial of a number.<b>"
   ]
  },
  {
   "cell_type": "code",
   "execution_count": null,
   "metadata": {},
   "outputs": [
    {
     "data": {
      "text/plain": [
       "'The factorial of 3 is equal to 6'"
      ]
     },
     "execution_count": 173,
     "metadata": {},
     "output_type": "execute_result"
    }
   ],
   "source": [
    "def factorial(number):\n",
    "    result=1\n",
    "    for i in range(1,number+1):\n",
    "        result = i * result\n",
    "    return f\"The factorial of {number} is equal to {result}\"\n",
    "factorial(3)"
   ]
  },
  {
   "cell_type": "markdown",
   "metadata": {},
   "source": [
    "# <b>6.Write a python program to check prime number.<b>"
   ]
  },
  {
   "cell_type": "markdown",
   "metadata": {},
   "source": [
    "# Explanation:\n",
    "* A prime number is only divisible by 1 and itself.\n",
    "* If a number n is not prime, it must have at least one factor less than or equal to sqrt(n).\n",
    "* So, instead of checking all numbers up to n, we check only up to sqrt(n), which makes the algorithm faster.\n",
    "- If n = a × b and n is not prime, then one of a or b must be ≤ sqrt(n).\n",
    "\n",
    "    * If both a and b were greater than sqrt(n), then their product would exceed n, which is not possible.\n",
    "    * Thus, if no divisors are found up to sqrt(n), n is prime.\n",
    "# Example:\n",
    "- Let’s check if n = 37 is prime:\n",
    "    * sqrt(37) ≈ 6.08\n",
    "    * We only check divisibility for numbers 2, 3, 4, 5, and 6.\n",
    "    * Since none of them divide 37, it is prime."
   ]
  },
  {
   "cell_type": "code",
   "execution_count": null,
   "metadata": {},
   "outputs": [
    {
     "data": {
      "text/plain": [
       "False"
      ]
     },
     "execution_count": 179,
     "metadata": {},
     "output_type": "execute_result"
    }
   ],
   "source": [
    "def prime_number(number):\n",
    "    # Check if the number is less than 2\n",
    "    if number < 2 :\n",
    "        return False\n",
    "    \n",
    "    # Check divisibility from 2 to sqrt(number)\n",
    "    for i in range(2,int(number * 0.5)+1):\n",
    "        if number % i == 0:\n",
    "            return False\n",
    "    return True\n",
    "\n",
    "#Call the function and input number.\n",
    "prime_number(9)"
   ]
  },
  {
   "cell_type": "markdown",
   "metadata": {},
   "source": [
    "# <b>7.Write a python program to print all prime numbers in an interval of 1-100.<b>"
   ]
  },
  {
   "cell_type": "code",
   "execution_count": null,
   "metadata": {},
   "outputs": [
    {
     "name": "stdout",
     "output_type": "stream",
     "text": [
      "2 3 5 7 11 13 17 19 23 29 31 37 41 43 47 53 59 61 67 71 73 79 83 89 97 "
     ]
    }
   ],
   "source": [
    "def prime_number(number):\n",
    "    if number < 2:\n",
    "        return False\n",
    "    for i in range(2,int(number*0.5)+1):\n",
    "        if number % i ==0:\n",
    "            return False\n",
    "    return True\n",
    "\n",
    "#Call the function insude the loop to print prime number 1 to 100.\n",
    "for i in range(1,101):\n",
    "    if prime_number(i):\n",
    "        print(i,end=' ')"
   ]
  },
  {
   "cell_type": "markdown",
   "metadata": {},
   "source": [
    "# <b>8.Write a python program to display the multiplication table.<b>"
   ]
  },
  {
   "cell_type": "code",
   "execution_count": null,
   "metadata": {},
   "outputs": [
    {
     "name": "stdout",
     "output_type": "stream",
     "text": [
      "2 x 1 = 2\n",
      "2 x 2 = 4\n",
      "2 x 3 = 6\n",
      "2 x 4 = 8\n",
      "2 x 5 = 10\n",
      "2 x 6 = 12\n",
      "2 x 7 = 14\n",
      "2 x 8 = 16\n",
      "2 x 9 = 18\n",
      "2 x 10 = 20\n"
     ]
    }
   ],
   "source": [
    "def multiplication_table(n):\n",
    "    for i in range(1,11):  #Multiplication table from 1 to 10.\n",
    "        print(f\"{n} x {i} = {n * i}\")\n",
    "multiplication_table(2)"
   ]
  },
  {
   "cell_type": "markdown",
   "metadata": {},
   "source": [
    "# <b>9.\tUsing Python programming solve the following-\n",
    "* (i)\t1+2+3+………+1000 = ?\n",
    "* (ii)\t2+4+6+……….+2000 = ? \n",
    "* (iii)\t300+301+……...+1000=?\n",
    "<b>"
   ]
  },
  {
   "cell_type": "code",
   "execution_count": null,
   "metadata": {},
   "outputs": [
    {
     "name": "stdout",
     "output_type": "stream",
     "text": [
      "The sum of 1+2+3+………+1000 = 500500.\n"
     ]
    }
   ],
   "source": [
    "#Solution of i\n",
    "import numpy as np\n",
    "sum = 0\n",
    "for i in range(1,1001,1):\n",
    "    sum = i + sum\n",
    "print(f\"The sum of 1+2+3+………+1000 = {sum}.\")"
   ]
  },
  {
   "cell_type": "code",
   "execution_count": null,
   "metadata": {},
   "outputs": [
    {
     "name": "stdout",
     "output_type": "stream",
     "text": [
      "The sum of 2+4+6+……….+2000 = 1001000.\n"
     ]
    }
   ],
   "source": [
    "#Solution of ii\n",
    "import numpy as np\n",
    "sum = 0\n",
    "for i in range(2,2001,2):\n",
    "    sum = i + sum\n",
    "print(f\"The sum of 2+4+6+……….+2000 = {sum}.\")"
   ]
  },
  {
   "cell_type": "code",
   "execution_count": null,
   "metadata": {},
   "outputs": [
    {
     "name": "stdout",
     "output_type": "stream",
     "text": [
      "The sum of 300+301+……...+1000 = 455650.\n"
     ]
    }
   ],
   "source": [
    "#Solution of iii\n",
    "import numpy as np\n",
    "sum = 0\n",
    "for i in range(300,1001,1):\n",
    "    sum = i + sum\n",
    "print(f\"The sum of 300+301+……...+1000 = {sum}.\")"
   ]
  },
  {
   "cell_type": "markdown",
   "metadata": {},
   "source": [
    "# <b>10.Write a python program for the Chittagong university grading system to check the input of your number.<b>"
   ]
  },
  {
   "cell_type": "code",
   "execution_count": 260,
   "metadata": {},
   "outputs": [
    {
     "data": {
      "text/plain": [
       "'A-'"
      ]
     },
     "execution_count": 260,
     "metadata": {},
     "output_type": "execute_result"
    }
   ],
   "source": [
    "def Grade(marks):\n",
    "    if 80 <= marks <= 100:\n",
    "        return 'A+'\n",
    "    elif 75 <= marks < 80:\n",
    "        return 'A'\n",
    "    elif 70 <= marks < 75:\n",
    "        return 'A-'\n",
    "    elif 65 <= marks < 70:\n",
    "        return 'B+'\n",
    "    elif 60 <= marks < 65:\n",
    "        return 'B'\n",
    "    elif 55 <= marks < 60:\n",
    "        return 'B-'\n",
    "    elif 50 <= marks < 55:\n",
    "        return 'C+'\n",
    "    elif 45 <= marks < 50:\n",
    "        return 'C'\n",
    "    elif 40 <= marks < 45:\n",
    "        return 'D'\n",
    "    elif 0 <= marks < 40:\n",
    "        return 'F'\n",
    "    else:\n",
    "        return 'Invalid marks', None\n",
    "    \n",
    "Grade(73)"
   ]
  },
  {
   "cell_type": "markdown",
   "metadata": {},
   "source": [
    "# <b><b>"
   ]
  },
  {
   "cell_type": "markdown",
   "metadata": {},
   "source": [
    "# <b>11.Write a python program to add two matrices.<b>"
   ]
  },
  {
   "cell_type": "code",
   "execution_count": 238,
   "metadata": {},
   "outputs": [
    {
     "name": "stdout",
     "output_type": "stream",
     "text": [
      "[[10 10 10]\n",
      " [10 10 10]\n",
      " [10 10 10]]\n"
     ]
    }
   ],
   "source": [
    "import numpy as np\n",
    "#Let A and B are two matrices where A and B have the same number of rows and columns.\n",
    "\n",
    "A = np.array([[1, 2, 3], [4, 5, 6], [7, 8, 9]])\n",
    "B = np.array([[9, 8, 7], [6, 5, 4], [3, 2, 1]])\n",
    "sum_of_matrices = A + B\n",
    "print(sum_of_matrices)\n"
   ]
  },
  {
   "cell_type": "markdown",
   "metadata": {},
   "source": [
    "# <b><b>"
   ]
  },
  {
   "cell_type": "markdown",
   "metadata": {},
   "source": [
    "# <b>12.Write a python program to multiply two matrices<b>"
   ]
  },
  {
   "cell_type": "code",
   "execution_count": 237,
   "metadata": {},
   "outputs": [
    {
     "name": "stdout",
     "output_type": "stream",
     "text": [
      "[[20 25 21]\n",
      " [ 6 30 24]\n",
      " [45 40  9]]\n"
     ]
    }
   ],
   "source": [
    "import numpy as np\n",
    "#Let C and D are two matrices where the number of columns of matrix C must be equal to the number of rows of matrix D.\n",
    "\n",
    "C = np.array([[2, 5, 3], [3, 5, 6], [5, 8, 9]])\n",
    "D = np.array([[10, 5, 7], [2, 6, 4], [9,5, 1]])\n",
    "multiply_of_matrices = C * D\n",
    "print(multiply_of_matrices)"
   ]
  },
  {
   "cell_type": "markdown",
   "metadata": {},
   "source": [
    "# <b><b>"
   ]
  },
  {
   "cell_type": "markdown",
   "metadata": {},
   "source": [
    "# <b>13.Write a python program for cube sum of first n natural numbers.<b>"
   ]
  },
  {
   "attachments": {
    "image.png": {
     "image/png": "[encoded data removed]"
    }
   },
   "cell_type": "markdown",
   "metadata": {},
   "source": [
    "![image.png](attachment:image.png)"
   ]
  },
  {
   "cell_type": "code",
   "execution_count": 256,
   "metadata": {},
   "outputs": [
    {
     "name": "stdout",
     "output_type": "stream",
     "text": [
      "Cube sum of first 5 natural numbers is: 225\n"
     ]
    }
   ],
   "source": [
    "n = int(input())\n",
    "result = ((n * (n + 1)) // 2) ** 2\n",
    "print(f\"Cube sum of first {n} natural numbers is: {result}\")"
   ]
  },
  {
   "attachments": {
    "image.png": {
     "image/png": "[encoded data removed]"
    }
   },
   "cell_type": "markdown",
   "metadata": {},
   "source": [
    "![image.png](attachment:image.png)"
   ]
  },
  {
   "cell_type": "markdown",
   "metadata": {},
   "source": [
    "# <b><b>"
   ]
  },
  {
   "cell_type": "markdown",
   "metadata": {},
   "source": [
    "# <b>14.Generate a list of 30 randomly selected unique numbers from 1 to 100, without repeating any number.<b>"
   ]
  },
  {
   "cell_type": "code",
   "execution_count": 245,
   "metadata": {},
   "outputs": [
    {
     "name": "stdout",
     "output_type": "stream",
     "text": [
      "[75, 6, 66, 35, 41, 77, 33, 85, 17, 74, 2, 62, 69, 81, 26, 45, 57, 18, 87, 82, 73, 3, 96, 64, 25, 65, 99, 19, 14, 67]\n"
     ]
    }
   ],
   "source": [
    "import random\n",
    "# Generate a list of 30 unique random numbers from 1 to 100\n",
    "random_numbers = random.sample(range(1, 101), 30)\n",
    "print(random_numbers)"
   ]
  },
  {
   "cell_type": "markdown",
   "metadata": {},
   "source": [
    "# <b><b>"
   ]
  },
  {
   "cell_type": "markdown",
   "metadata": {},
   "source": [
    "# <b>15.Write a Python Program to calculate your Body Mass Index.\n",
    "* The BMI is calculated using the following formula: $BMI = \\frac{\\text{weight (kg)}}{\\text{height (m)}^2}$ <b>\n"
   ]
  },
  {
   "cell_type": "code",
   "execution_count": 249,
   "metadata": {},
   "outputs": [
    {
     "data": {
      "text/plain": [
       "'Your BMI is: 15.14.'"
      ]
     },
     "execution_count": 249,
     "metadata": {},
     "output_type": "execute_result"
    }
   ],
   "source": [
    "def BMI(Weight,Height):\n",
    "    # Weight in KG and Height in meter.\n",
    "    bmi = Weight / (Height * 2)\n",
    "    return f\"Your BMI is: {bmi:.2f}.\"\n",
    "BMI(53,1.75)"
   ]
  },
  {
   "cell_type": "markdown",
   "metadata": {},
   "source": [
    "# <b>16.Write a Python Program to Find Factorial of Number Using Recursion.<b>"
   ]
  },
  {
   "cell_type": "code",
   "execution_count": null,
   "metadata": {},
   "outputs": [
    {
     "data": {
      "text/plain": [
       "120"
      ]
     },
     "execution_count": 250,
     "metadata": {},
     "output_type": "execute_result"
    }
   ],
   "source": [
    "# Function to calculate factorial using recursion.\n",
    "def factorial(n): \n",
    "\tif (n==1 or n==0): # Checking the number is 1 or 0 then return 1 other wise return factorial.\n",
    "\t\treturn 1\n",
    "\telse:\n",
    "\t\treturn (n * factorial(n - 1)) # Recursive case: n * factorial of (n-1).\n",
    "\n",
    "factorial(5)\n"
   ]
  }
 ],
 "metadata": {
  "kernelspec": {
   "display_name": "Python 3",
   "language": "python",
   "name": "python3"
  },
  "language_info": {
   "codemirror_mode": {
    "name": "ipython",
    "version": 3
   },
   "file_extension": ".py",
   "mimetype": "text/x-python",
   "name": "python",
   "nbconvert_exporter": "python",
   "pygments_lexer": "ipython3",
   "version": "3.13.0"
  }
 },
 "nbformat": 4,
 "nbformat_minor": 2
}
